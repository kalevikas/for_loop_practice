{
 "cells": [
  {
   "cell_type": "markdown",
   "id": "5799b44e",
   "metadata": {},
   "source": [
    "**Syntax of for loop:**"
   ]
  },
  {
   "cell_type": "markdown",
   "id": "63c0199b",
   "metadata": {},
   "source": [
    "for <variable> in <iterable>:\n",
    "    print<variable>\n",
    "    \n",
    "Here variable can be anything like i,j,k,l etc.\n",
    "and Iterable can be List,Tuple,Dict.,Str,Set etc."
   ]
  },
  {
   "cell_type": "markdown",
   "id": "c06157d7",
   "metadata": {},
   "source": [
    "*Range*"
   ]
  },
  {
   "cell_type": "markdown",
   "id": "c1eac9a7",
   "metadata": {},
   "source": [
    "Range is built-in function which takes two arguments.\n",
    "1]Start point---> By default start point is 0\n",
    "2]End point-----> WE need to specify end point.\n",
    "\n",
    "Syntax:\n",
    "    range(10)\n",
    "    \n",
    "    This will create a range from 0 to 10 and stop 10. We will be able to print 0,1,2,3,4,5,6,7,8,9 not 10\n",
    "    \n",
    "    range(5)\n",
    "    0,1,2,3,4"
   ]
  },
  {
   "cell_type": "markdown",
   "id": "7d6475ca",
   "metadata": {},
   "source": [
    "# 1] For loop with range"
   ]
  },
  {
   "cell_type": "code",
   "execution_count": 1,
   "id": "c721754c",
   "metadata": {},
   "outputs": [
    {
     "name": "stdout",
     "output_type": "stream",
     "text": [
      "Hello World!\n",
      "Hello World!\n",
      "Hello World!\n",
      "Hello World!\n",
      "Hello World!\n"
     ]
    }
   ],
   "source": [
    "for i in range(5):       # Here range(5) means by default it starts from 0 and run upto 5\n",
    "    print(\"Hello World!\")"
   ]
  },
  {
   "cell_type": "code",
   "execution_count": 2,
   "id": "b997a20d",
   "metadata": {},
   "outputs": [
    {
     "name": "stdout",
     "output_type": "stream",
     "text": [
      "The numbers from 1 to 11 is: 1\n",
      "The numbers from 1 to 11 is: 2\n",
      "The numbers from 1 to 11 is: 3\n",
      "The numbers from 1 to 11 is: 4\n",
      "The numbers from 1 to 11 is: 5\n",
      "The numbers from 1 to 11 is: 6\n",
      "The numbers from 1 to 11 is: 7\n",
      "The numbers from 1 to 11 is: 8\n",
      "The numbers from 1 to 11 is: 9\n",
      "The numbers from 1 to 11 is: 10\n"
     ]
    }
   ],
   "source": [
    "for i in range(1,11):\n",
    "    print(\"The numbers from 1 to 11 is:\",i)"
   ]
  },
  {
   "cell_type": "code",
   "execution_count": 3,
   "id": "1913ee4c",
   "metadata": {},
   "outputs": [
    {
     "name": "stdout",
     "output_type": "stream",
     "text": [
      "The number from 11 to 20 is : \n",
      "11\n",
      "12\n",
      "13\n",
      "14\n",
      "15\n",
      "16\n",
      "17\n",
      "18\n",
      "19\n",
      "20\n"
     ]
    }
   ],
   "source": [
    "print(\"The number from 11 to 20 is : \")\n",
    "for i in range(11,21):\n",
    "    print(i)"
   ]
  },
  {
   "cell_type": "markdown",
   "id": "cff23030",
   "metadata": {},
   "source": [
    "# Print table by using for loop"
   ]
  },
  {
   "cell_type": "code",
   "execution_count": 5,
   "id": "8c55f716",
   "metadata": {},
   "outputs": [
    {
     "name": "stdout",
     "output_type": "stream",
     "text": [
      "Table of 2 :\n",
      "2\n",
      "4\n",
      "6\n",
      "8\n",
      "10\n",
      "12\n",
      "14\n",
      "16\n",
      "18\n",
      "20\n"
     ]
    }
   ],
   "source": [
    "print(\"Table of 2 :\")\n",
    "for table in range(2,21,2):  # Here first 2 is starting number,middle 21 is last digit i.e 21-1=20;\n",
    "    print(table)               #  and last 2 is the difference betwween 2 numbers."
   ]
  },
  {
   "cell_type": "code",
   "execution_count": 7,
   "id": "7b368221",
   "metadata": {},
   "outputs": [
    {
     "name": "stdout",
     "output_type": "stream",
     "text": [
      "table of 12:\n",
      "12\n",
      "24\n",
      "36\n",
      "48\n",
      "60\n",
      "72\n",
      "84\n",
      "96\n",
      "108\n",
      "120\n"
     ]
    }
   ],
   "source": [
    "print(\"Table of 12:\")\n",
    "for table in range(12,121,12):\n",
    "    print(table)"
   ]
  },
  {
   "cell_type": "markdown",
   "id": "bd1f7f18",
   "metadata": {},
   "source": [
    "# 2] For loop with List"
   ]
  },
  {
   "cell_type": "code",
   "execution_count": 8,
   "id": "42c386ea",
   "metadata": {},
   "outputs": [],
   "source": [
    "list1=[10,20,30,40,50]"
   ]
  },
  {
   "cell_type": "code",
   "execution_count": 9,
   "id": "df1b3e79",
   "metadata": {},
   "outputs": [
    {
     "name": "stdout",
     "output_type": "stream",
     "text": [
      "10\n",
      "20\n",
      "30\n",
      "40\n",
      "50\n"
     ]
    }
   ],
   "source": [
    "for i in list1:\n",
    "    print(i)"
   ]
  },
  {
   "cell_type": "code",
   "execution_count": 13,
   "id": "21e6a31c",
   "metadata": {},
   "outputs": [
    {
     "name": "stdout",
     "output_type": "stream",
     "text": [
      "present\n"
     ]
    }
   ],
   "source": [
    "if 20 in list1:\n",
    "    print('present')\n",
    "else:\n",
    "    print('not present')"
   ]
  },
  {
   "cell_type": "code",
   "execution_count": 14,
   "id": "a94714d7",
   "metadata": {},
   "outputs": [],
   "source": [
    "list2=['Vikas','Python','Django']"
   ]
  },
  {
   "cell_type": "code",
   "execution_count": 15,
   "id": "b7404b0d",
   "metadata": {},
   "outputs": [
    {
     "data": {
      "text/plain": [
       "['Vikas', 'Python', 'Django']"
      ]
     },
     "execution_count": 15,
     "metadata": {},
     "output_type": "execute_result"
    }
   ],
   "source": [
    "list2"
   ]
  },
  {
   "cell_type": "code",
   "execution_count": 16,
   "id": "e1ae0e7a",
   "metadata": {},
   "outputs": [
    {
     "name": "stdout",
     "output_type": "stream",
     "text": [
      "Vikas\n",
      "Python\n",
      "Django\n"
     ]
    }
   ],
   "source": [
    "for i in list2:\n",
    "    print(i)"
   ]
  },
  {
   "cell_type": "code",
   "execution_count": 17,
   "id": "d451a4c4",
   "metadata": {},
   "outputs": [
    {
     "data": {
      "text/plain": [
       "str"
      ]
     },
     "execution_count": 17,
     "metadata": {},
     "output_type": "execute_result"
    }
   ],
   "source": [
    "type(i)"
   ]
  },
  {
   "cell_type": "code",
   "execution_count": 18,
   "id": "af87d234",
   "metadata": {},
   "outputs": [
    {
     "data": {
      "text/plain": [
       "'Vikas'"
      ]
     },
     "execution_count": 18,
     "metadata": {},
     "output_type": "execute_result"
    }
   ],
   "source": [
    "list2[0]"
   ]
  },
  {
   "cell_type": "code",
   "execution_count": 19,
   "id": "657ae0ba",
   "metadata": {},
   "outputs": [
    {
     "data": {
      "text/plain": [
       "'Python'"
      ]
     },
     "execution_count": 19,
     "metadata": {},
     "output_type": "execute_result"
    }
   ],
   "source": [
    "list2[1]"
   ]
  },
  {
   "cell_type": "markdown",
   "id": "95e20df8",
   "metadata": {},
   "source": [
    "# 3] For with str"
   ]
  },
  {
   "cell_type": "code",
   "execution_count": 20,
   "id": "8c32d060",
   "metadata": {},
   "outputs": [],
   "source": [
    "name='Vikas'"
   ]
  },
  {
   "cell_type": "code",
   "execution_count": 21,
   "id": "d56427a1",
   "metadata": {},
   "outputs": [
    {
     "data": {
      "text/plain": [
       "'Vikas'"
      ]
     },
     "execution_count": 21,
     "metadata": {},
     "output_type": "execute_result"
    }
   ],
   "source": [
    "name"
   ]
  },
  {
   "cell_type": "code",
   "execution_count": 22,
   "id": "3d39e887",
   "metadata": {},
   "outputs": [
    {
     "name": "stdout",
     "output_type": "stream",
     "text": [
      "V\n",
      "i\n",
      "k\n",
      "a\n",
      "s\n"
     ]
    }
   ],
   "source": [
    "for i in name:\n",
    "    print(i)"
   ]
  },
  {
   "cell_type": "code",
   "execution_count": 23,
   "id": "b53747dc",
   "metadata": {},
   "outputs": [
    {
     "data": {
      "text/plain": [
       "'s'"
      ]
     },
     "execution_count": 23,
     "metadata": {},
     "output_type": "execute_result"
    }
   ],
   "source": [
    "i[0]"
   ]
  },
  {
   "cell_type": "code",
   "execution_count": 25,
   "id": "342646c4",
   "metadata": {},
   "outputs": [
    {
     "data": {
      "text/plain": [
       "'i'"
      ]
     },
     "execution_count": 25,
     "metadata": {},
     "output_type": "execute_result"
    }
   ],
   "source": [
    "name[1\n",
    "    ]"
   ]
  },
  {
   "cell_type": "code",
   "execution_count": 26,
   "id": "49c91ddf",
   "metadata": {},
   "outputs": [],
   "source": [
    "course='python with django'"
   ]
  },
  {
   "cell_type": "code",
   "execution_count": 27,
   "id": "086d3f97",
   "metadata": {},
   "outputs": [
    {
     "data": {
      "text/plain": [
       "'python with django'"
      ]
     },
     "execution_count": 27,
     "metadata": {},
     "output_type": "execute_result"
    }
   ],
   "source": [
    "course"
   ]
  },
  {
   "cell_type": "code",
   "execution_count": 28,
   "id": "8b50cc31",
   "metadata": {},
   "outputs": [
    {
     "data": {
      "text/plain": [
       "18"
      ]
     },
     "execution_count": 28,
     "metadata": {},
     "output_type": "execute_result"
    }
   ],
   "source": [
    "len(course)"
   ]
  },
  {
   "cell_type": "code",
   "execution_count": 30,
   "id": "1e116928",
   "metadata": {},
   "outputs": [
    {
     "name": "stdout",
     "output_type": "stream",
     "text": [
      "p\ty\tt\th\to\tn\t \tw\ti\tt\th\t \td\tj\ta\tn\tg\to\t"
     ]
    }
   ],
   "source": [
    "for i in course:\n",
    "    print(i,end=\"\\t\")"
   ]
  },
  {
   "cell_type": "code",
   "execution_count": 31,
   "id": "189eb4f7",
   "metadata": {},
   "outputs": [
    {
     "data": {
      "text/plain": [
       "'Vikas'"
      ]
     },
     "execution_count": 31,
     "metadata": {},
     "output_type": "execute_result"
    }
   ],
   "source": [
    "name"
   ]
  },
  {
   "cell_type": "code",
   "execution_count": 35,
   "id": "c8377a5b",
   "metadata": {},
   "outputs": [
    {
     "data": {
      "text/plain": [
       "5"
      ]
     },
     "execution_count": 35,
     "metadata": {},
     "output_type": "execute_result"
    }
   ],
   "source": [
    "len(name)"
   ]
  },
  {
   "cell_type": "code",
   "execution_count": 34,
   "id": "f31e1f46",
   "metadata": {},
   "outputs": [
    {
     "name": "stdout",
     "output_type": "stream",
     "text": [
      "0\n",
      "1\n",
      "2\n",
      "3\n",
      "4\n"
     ]
    }
   ],
   "source": [
    "for i in range(len(name)):\n",
    "    print(i)"
   ]
  },
  {
   "cell_type": "markdown",
   "id": "fa7382ee",
   "metadata": {},
   "source": [
    "# 4] For loop with Dict"
   ]
  },
  {
   "cell_type": "code",
   "execution_count": 36,
   "id": "0607254f",
   "metadata": {},
   "outputs": [],
   "source": [
    "employee_details = {'name':'Vikas', 'dept': 'IT', 'employee_code': 123456789}"
   ]
  },
  {
   "cell_type": "code",
   "execution_count": 37,
   "id": "357081f6",
   "metadata": {},
   "outputs": [
    {
     "data": {
      "text/plain": [
       "{'name': 'Vikas', 'dept': 'IT', 'employee_code': 123456789}"
      ]
     },
     "execution_count": 37,
     "metadata": {},
     "output_type": "execute_result"
    }
   ],
   "source": [
    "employee_details"
   ]
  },
  {
   "cell_type": "code",
   "execution_count": 38,
   "id": "41af598d",
   "metadata": {},
   "outputs": [
    {
     "name": "stdout",
     "output_type": "stream",
     "text": [
      "name\n",
      "dept\n",
      "employee_code\n"
     ]
    }
   ],
   "source": [
    "for i in employee_details:\n",
    "    print(i)       # By default it print Keys;"
   ]
  },
  {
   "cell_type": "code",
   "execution_count": 41,
   "id": "c3709ca0",
   "metadata": {},
   "outputs": [
    {
     "data": {
      "text/plain": [
       "'Vikas'"
      ]
     },
     "execution_count": 41,
     "metadata": {},
     "output_type": "execute_result"
    }
   ],
   "source": [
    "employee_details['name']"
   ]
  },
  {
   "cell_type": "code",
   "execution_count": 42,
   "id": "83221569",
   "metadata": {},
   "outputs": [
    {
     "data": {
      "text/plain": [
       "123456789"
      ]
     },
     "execution_count": 42,
     "metadata": {},
     "output_type": "execute_result"
    }
   ],
   "source": [
    "employee_details['employee_code']"
   ]
  },
  {
   "cell_type": "code",
   "execution_count": 43,
   "id": "843863c2",
   "metadata": {},
   "outputs": [],
   "source": [
    "employee_details['Address']='Pune'"
   ]
  },
  {
   "cell_type": "code",
   "execution_count": 44,
   "id": "89424a41",
   "metadata": {},
   "outputs": [
    {
     "data": {
      "text/plain": [
       "{'name': 'Vikas', 'dept': 'IT', 'employee_code': 123456789, 'Address': 'Pune'}"
      ]
     },
     "execution_count": 44,
     "metadata": {},
     "output_type": "execute_result"
    }
   ],
   "source": [
    "employee_details"
   ]
  },
  {
   "cell_type": "code",
   "execution_count": 45,
   "id": "64c7d43e",
   "metadata": {},
   "outputs": [
    {
     "data": {
      "text/plain": [
       "'IT'"
      ]
     },
     "execution_count": 45,
     "metadata": {},
     "output_type": "execute_result"
    }
   ],
   "source": [
    "employee_details.get('dept')"
   ]
  },
  {
   "cell_type": "code",
   "execution_count": 46,
   "id": "ce9bad30",
   "metadata": {},
   "outputs": [
    {
     "data": {
      "text/plain": [
       "'Pune'"
      ]
     },
     "execution_count": 46,
     "metadata": {},
     "output_type": "execute_result"
    }
   ],
   "source": [
    "employee_details.get('Address')"
   ]
  },
  {
   "cell_type": "markdown",
   "id": "dabf2496",
   "metadata": {},
   "source": [
    "**If we want to print only values:**"
   ]
  },
  {
   "cell_type": "code",
   "execution_count": 54,
   "id": "fd49060e",
   "metadata": {},
   "outputs": [
    {
     "name": "stdout",
     "output_type": "stream",
     "text": [
      " name\t---> Vikas\t dept\t---> IT\t employee_code\t---> 123456789\t Address\t---> Pune\t"
     ]
    }
   ],
   "source": [
    "for i in employee_details:\n",
    "  \n",
    "    print(\"\", i, end=\"\\t\")\n",
    "    print('--->', employee_details.get(i),end=\"\\t\")"
   ]
  },
  {
   "cell_type": "code",
   "execution_count": 55,
   "id": "2dd84ec5",
   "metadata": {},
   "outputs": [
    {
     "name": "stdout",
     "output_type": "stream",
     "text": [
      "Vikas\n",
      "IT\n",
      "123456789\n",
      "Pune\n"
     ]
    }
   ],
   "source": [
    "for i in employee_details:\n",
    "    print(employee_details.get(i))"
   ]
  },
  {
   "cell_type": "code",
   "execution_count": 60,
   "id": "b7c3c49c",
   "metadata": {},
   "outputs": [
    {
     "name": "stdout",
     "output_type": "stream",
     "text": [
      "name is:- Vikas\n",
      "dept is:- IT\n",
      "employee_code is:- 123456789\n",
      "Address is:- Pune\n"
     ]
    }
   ],
   "source": [
    "for i in employee_details:\n",
    "    print(\"%s is:- %s\"%(i,employee_details.get(i)))"
   ]
  },
  {
   "cell_type": "code",
   "execution_count": 61,
   "id": "9bb84908",
   "metadata": {},
   "outputs": [],
   "source": [
    "car_details={'brand': 'Ford', 'model': 'Mustang', 'year': 1964}"
   ]
  },
  {
   "cell_type": "code",
   "execution_count": 62,
   "id": "880a899d",
   "metadata": {},
   "outputs": [
    {
     "data": {
      "text/plain": [
       "{'brand': 'Ford', 'model': 'Mustang', 'year': 1964}"
      ]
     },
     "execution_count": 62,
     "metadata": {},
     "output_type": "execute_result"
    }
   ],
   "source": [
    "car_details"
   ]
  },
  {
   "cell_type": "code",
   "execution_count": 63,
   "id": "b6456b94",
   "metadata": {},
   "outputs": [],
   "source": [
    "car_details['Color']='Orange'"
   ]
  },
  {
   "cell_type": "code",
   "execution_count": 64,
   "id": "255f5125",
   "metadata": {},
   "outputs": [
    {
     "data": {
      "text/plain": [
       "{'brand': 'Ford', 'model': 'Mustang', 'year': 1964, 'Color': 'Orange'}"
      ]
     },
     "execution_count": 64,
     "metadata": {},
     "output_type": "execute_result"
    }
   ],
   "source": [
    "car_details"
   ]
  },
  {
   "cell_type": "markdown",
   "id": "4bf6e39a",
   "metadata": {},
   "source": [
    "# Print both Keys and Values by using For loop"
   ]
  },
  {
   "cell_type": "code",
   "execution_count": 65,
   "id": "c9633cec",
   "metadata": {},
   "outputs": [
    {
     "data": {
      "text/plain": [
       "{'brand': 'Ford', 'model': 'Mustang', 'year': 1964, 'Color': 'Orange'}"
      ]
     },
     "execution_count": 65,
     "metadata": {},
     "output_type": "execute_result"
    }
   ],
   "source": [
    "car_details"
   ]
  },
  {
   "cell_type": "code",
   "execution_count": 66,
   "id": "acdffa33",
   "metadata": {},
   "outputs": [
    {
     "name": "stdout",
     "output_type": "stream",
     "text": [
      "brand is:- Ford\n",
      "model is:- Mustang\n",
      "year is:- 1964\n",
      "Color is:- Orange\n"
     ]
    }
   ],
   "source": [
    "for i in car_details:\n",
    "    print(\"%s is:- %s\"%(i,car_details.get(i)))"
   ]
  },
  {
   "cell_type": "markdown",
   "id": "54058ab1",
   "metadata": {},
   "source": [
    "**We want to change year is 2021**"
   ]
  },
  {
   "cell_type": "code",
   "execution_count": 67,
   "id": "bebd2c56",
   "metadata": {},
   "outputs": [
    {
     "data": {
      "text/plain": [
       "{'brand': 'Ford', 'model': 'Mustang', 'year': 1964, 'Color': 'Orange'}"
      ]
     },
     "execution_count": 67,
     "metadata": {},
     "output_type": "execute_result"
    }
   ],
   "source": [
    "car_details"
   ]
  },
  {
   "cell_type": "code",
   "execution_count": 68,
   "id": "c3559842",
   "metadata": {},
   "outputs": [
    {
     "name": "stdout",
     "output_type": "stream",
     "text": [
      "['__class__', '__contains__', '__delattr__', '__delitem__', '__dir__', '__doc__', '__eq__', '__format__', '__ge__', '__getattribute__', '__getitem__', '__gt__', '__hash__', '__init__', '__init_subclass__', '__iter__', '__le__', '__len__', '__lt__', '__ne__', '__new__', '__reduce__', '__reduce_ex__', '__repr__', '__reversed__', '__setattr__', '__setitem__', '__sizeof__', '__str__', '__subclasshook__', 'clear', 'copy', 'fromkeys', 'get', 'items', 'keys', 'pop', 'popitem', 'setdefault', 'update', 'values']\n"
     ]
    }
   ],
   "source": [
    "print(dir(dict))"
   ]
  },
  {
   "cell_type": "code",
   "execution_count": 69,
   "id": "2cdebf1e",
   "metadata": {},
   "outputs": [
    {
     "name": "stdout",
     "output_type": "stream",
     "text": [
      "Help on method_descriptor:\n",
      "\n",
      "update(...)\n",
      "    D.update([E, ]**F) -> None.  Update D from dict/iterable E and F.\n",
      "    If E is present and has a .keys() method, then does:  for k in E: D[k] = E[k]\n",
      "    If E is present and lacks a .keys() method, then does:  for k, v in E: D[k] = v\n",
      "    In either case, this is followed by: for k in F:  D[k] = F[k]\n",
      "\n"
     ]
    }
   ],
   "source": [
    "help(dict.update)"
   ]
  },
  {
   "cell_type": "code",
   "execution_count": 77,
   "id": "46cd5b4e",
   "metadata": {},
   "outputs": [
    {
     "data": {
      "text/plain": [
       "False"
      ]
     },
     "execution_count": 77,
     "metadata": {},
     "output_type": "execute_result"
    }
   ],
   "source": [
    "car_details.get('year') == '2021'"
   ]
  },
  {
   "cell_type": "code",
   "execution_count": 76,
   "id": "1aa2ac45",
   "metadata": {},
   "outputs": [
    {
     "data": {
      "text/plain": [
       "1964"
      ]
     },
     "execution_count": 76,
     "metadata": {},
     "output_type": "execute_result"
    }
   ],
   "source": [
    "car_details.get('year')"
   ]
  },
  {
   "cell_type": "code",
   "execution_count": 78,
   "id": "03551c0c",
   "metadata": {},
   "outputs": [
    {
     "data": {
      "text/plain": [
       "1964"
      ]
     },
     "execution_count": 78,
     "metadata": {},
     "output_type": "execute_result"
    }
   ],
   "source": [
    "car_details['year']"
   ]
  },
  {
   "cell_type": "code",
   "execution_count": 79,
   "id": "fb097d78",
   "metadata": {},
   "outputs": [],
   "source": [
    "car_details['year'] = \"2021\""
   ]
  },
  {
   "cell_type": "code",
   "execution_count": 80,
   "id": "0d4f10a5",
   "metadata": {},
   "outputs": [
    {
     "data": {
      "text/plain": [
       "{'brand': 'Ford', 'model': 'Mustang', 'year': '2021', 'Color': 'Orange'}"
      ]
     },
     "execution_count": 80,
     "metadata": {},
     "output_type": "execute_result"
    }
   ],
   "source": [
    "car_details"
   ]
  },
  {
   "cell_type": "markdown",
   "id": "66c345de",
   "metadata": {},
   "source": [
    "# WE want to change brand:"
   ]
  },
  {
   "cell_type": "code",
   "execution_count": 81,
   "id": "c2628b65",
   "metadata": {},
   "outputs": [
    {
     "data": {
      "text/plain": [
       "{'brand': 'Ford', 'model': 'Mustang', 'year': '2021', 'Color': 'Orange'}"
      ]
     },
     "execution_count": 81,
     "metadata": {},
     "output_type": "execute_result"
    }
   ],
   "source": [
    "car_details"
   ]
  },
  {
   "cell_type": "code",
   "execution_count": 82,
   "id": "a2a3860a",
   "metadata": {},
   "outputs": [
    {
     "data": {
      "text/plain": [
       "'Ford'"
      ]
     },
     "execution_count": 82,
     "metadata": {},
     "output_type": "execute_result"
    }
   ],
   "source": [
    "car_details[\"brand\"]"
   ]
  },
  {
   "cell_type": "code",
   "execution_count": 83,
   "id": "660926dc",
   "metadata": {},
   "outputs": [],
   "source": [
    "car_details[\"brand\"]=\"Rolls Royce\""
   ]
  },
  {
   "cell_type": "code",
   "execution_count": 84,
   "id": "61fb0a59",
   "metadata": {},
   "outputs": [
    {
     "data": {
      "text/plain": [
       "{'brand': 'Rolls Royce', 'model': 'Mustang', 'year': '2021', 'Color': 'Orange'}"
      ]
     },
     "execution_count": 84,
     "metadata": {},
     "output_type": "execute_result"
    }
   ],
   "source": [
    "car_details"
   ]
  },
  {
   "cell_type": "code",
   "execution_count": 85,
   "id": "6844c158",
   "metadata": {},
   "outputs": [],
   "source": [
    "car_details[\"model\"]=\"Phantom\""
   ]
  },
  {
   "cell_type": "code",
   "execution_count": 86,
   "id": "6da9ff06",
   "metadata": {},
   "outputs": [
    {
     "data": {
      "text/plain": [
       "{'brand': 'Rolls Royce', 'model': 'Phantom', 'year': '2021', 'Color': 'Orange'}"
      ]
     },
     "execution_count": 86,
     "metadata": {},
     "output_type": "execute_result"
    }
   ],
   "source": [
    "car_details"
   ]
  },
  {
   "cell_type": "markdown",
   "id": "db56c3ce",
   "metadata": {},
   "source": [
    "# How to change key"
   ]
  },
  {
   "cell_type": "code",
   "execution_count": 87,
   "id": "0fa0130a",
   "metadata": {},
   "outputs": [
    {
     "data": {
      "text/plain": [
       "dict_keys(['brand', 'model', 'year', 'Color'])"
      ]
     },
     "execution_count": 87,
     "metadata": {},
     "output_type": "execute_result"
    }
   ],
   "source": [
    "car_details.keys()"
   ]
  },
  {
   "cell_type": "code",
   "execution_count": 90,
   "id": "6ce2628e",
   "metadata": {},
   "outputs": [
    {
     "name": "stdout",
     "output_type": "stream",
     "text": [
      "brand\n",
      "model\n",
      "year\n",
      "Color\n"
     ]
    }
   ],
   "source": [
    "for i in car_details:\n",
    "    print(i)"
   ]
  },
  {
   "cell_type": "code",
   "execution_count": 102,
   "id": "bc060d7c",
   "metadata": {},
   "outputs": [],
   "source": [
    "for i in car_details:\n",
    "    if 'Color' in i:\n",
    "        Color='look'\n",
    "   "
   ]
  },
  {
   "cell_type": "code",
   "execution_count": 100,
   "id": "0b6ade86",
   "metadata": {},
   "outputs": [
    {
     "data": {
      "text/plain": [
       "{'brand': 'Rolls Royce', 'model': 'Phantom', 'year': '2021', 'Color': 'Orange'}"
      ]
     },
     "execution_count": 100,
     "metadata": {},
     "output_type": "execute_result"
    }
   ],
   "source": [
    "car_details"
   ]
  },
  {
   "cell_type": "code",
   "execution_count": 95,
   "id": "70829e33",
   "metadata": {},
   "outputs": [
    {
     "name": "stdout",
     "output_type": "stream",
     "text": [
      "Yes\n"
     ]
    }
   ],
   "source": [
    "for i in car_details:\n",
    "    if 'brand' in i:\n",
    "        print(\"Yes\")\n",
    "   "
   ]
  },
  {
   "cell_type": "code",
   "execution_count": 106,
   "id": "55efa4bd",
   "metadata": {},
   "outputs": [],
   "source": [
    "car_details[\"company\"]=car_details['brand']\n",
    "del car_details['brand'] "
   ]
  },
  {
   "cell_type": "code",
   "execution_count": 107,
   "id": "171d8261",
   "metadata": {},
   "outputs": [
    {
     "data": {
      "text/plain": [
       "{'model': 'Phantom',\n",
       " 'year': '2021',\n",
       " 'Color': 'Orange',\n",
       " 'company': 'Rolls Royce'}"
      ]
     },
     "execution_count": 107,
     "metadata": {},
     "output_type": "execute_result"
    }
   ],
   "source": [
    "car_details"
   ]
  },
  {
   "cell_type": "markdown",
   "id": "f8b17ed7",
   "metadata": {},
   "source": [
    "**Change year to Manufacturing year**"
   ]
  },
  {
   "cell_type": "code",
   "execution_count": 108,
   "id": "fd2f25a1",
   "metadata": {},
   "outputs": [],
   "source": [
    "car_details[\"Manufacturing_year\"]=car_details.pop(\"year\")"
   ]
  },
  {
   "cell_type": "code",
   "execution_count": 109,
   "id": "cfeba904",
   "metadata": {},
   "outputs": [
    {
     "data": {
      "text/plain": [
       "{'model': 'Phantom',\n",
       " 'Color': 'Orange',\n",
       " 'company': 'Rolls Royce',\n",
       " 'Manufacturing_year': '2021'}"
      ]
     },
     "execution_count": 109,
     "metadata": {},
     "output_type": "execute_result"
    }
   ],
   "source": [
    "car_details"
   ]
  },
  {
   "cell_type": "markdown",
   "id": "60a33111",
   "metadata": {},
   "source": [
    "# Write a program to print 10 to 1 "
   ]
  },
  {
   "cell_type": "code",
   "execution_count": 1,
   "id": "216ae482",
   "metadata": {},
   "outputs": [
    {
     "name": "stdout",
     "output_type": "stream",
     "text": [
      "The values from 10 to 1 is:\n",
      "10\n",
      "9\n",
      "8\n",
      "7\n",
      "6\n",
      "5\n",
      "4\n",
      "3\n",
      "2\n",
      "1\n"
     ]
    }
   ],
   "source": [
    "print(\"The values from 10 to 1 is:\")\n",
    "for i in range(10,0,-1):\n",
    "    print(i)"
   ]
  },
  {
   "cell_type": "markdown",
   "id": "d552839e",
   "metadata": {},
   "source": [
    "# Use dict built_in function items and print keys and values "
   ]
  },
  {
   "cell_type": "code",
   "execution_count": 2,
   "id": "cd36fa01",
   "metadata": {},
   "outputs": [
    {
     "name": "stdout",
     "output_type": "stream",
     "text": [
      "['__class__', '__contains__', '__delattr__', '__delitem__', '__dir__', '__doc__', '__eq__', '__format__', '__ge__', '__getattribute__', '__getitem__', '__gt__', '__hash__', '__init__', '__init_subclass__', '__iter__', '__le__', '__len__', '__lt__', '__ne__', '__new__', '__reduce__', '__reduce_ex__', '__repr__', '__reversed__', '__setattr__', '__setitem__', '__sizeof__', '__str__', '__subclasshook__', 'clear', 'copy', 'fromkeys', 'get', 'items', 'keys', 'pop', 'popitem', 'setdefault', 'update', 'values']\n"
     ]
    }
   ],
   "source": [
    "print(dir(dict))"
   ]
  },
  {
   "cell_type": "code",
   "execution_count": 3,
   "id": "2414850e",
   "metadata": {},
   "outputs": [
    {
     "name": "stdout",
     "output_type": "stream",
     "text": [
      "Help on method_descriptor:\n",
      "\n",
      "items(...)\n",
      "    D.items() -> a set-like object providing a view on D's items\n",
      "\n"
     ]
    }
   ],
   "source": [
    "help(dict.items)"
   ]
  },
  {
   "cell_type": "code",
   "execution_count": 5,
   "id": "6ef94372",
   "metadata": {},
   "outputs": [],
   "source": [
    "car_details={'model': 'Phantom',\n",
    " 'Color': 'Orange',\n",
    " 'company': 'Rolls Royce',\n",
    " 'Manufacturing_year': '2021'}"
   ]
  },
  {
   "cell_type": "code",
   "execution_count": 6,
   "id": "9423a564",
   "metadata": {},
   "outputs": [
    {
     "data": {
      "text/plain": [
       "{'model': 'Phantom',\n",
       " 'Color': 'Orange',\n",
       " 'company': 'Rolls Royce',\n",
       " 'Manufacturing_year': '2021'}"
      ]
     },
     "execution_count": 6,
     "metadata": {},
     "output_type": "execute_result"
    }
   ],
   "source": [
    "car_details"
   ]
  },
  {
   "cell_type": "code",
   "execution_count": 7,
   "id": "bcd7f43f",
   "metadata": {},
   "outputs": [
    {
     "data": {
      "text/plain": [
       "'Phantom'"
      ]
     },
     "execution_count": 7,
     "metadata": {},
     "output_type": "execute_result"
    }
   ],
   "source": [
    "car_details['model']"
   ]
  },
  {
   "cell_type": "code",
   "execution_count": 8,
   "id": "0b171d98",
   "metadata": {},
   "outputs": [
    {
     "data": {
      "text/plain": [
       "'Orange'"
      ]
     },
     "execution_count": 8,
     "metadata": {},
     "output_type": "execute_result"
    }
   ],
   "source": [
    "car_details.get(\"Color\")"
   ]
  },
  {
   "cell_type": "code",
   "execution_count": 9,
   "id": "d9c41d9a",
   "metadata": {},
   "outputs": [
    {
     "data": {
      "text/plain": [
       "dict_items([('model', 'Phantom'), ('Color', 'Orange'), ('company', 'Rolls Royce'), ('Manufacturing_year', '2021')])"
      ]
     },
     "execution_count": 9,
     "metadata": {},
     "output_type": "execute_result"
    }
   ],
   "source": [
    "car_details.items()"
   ]
  },
  {
   "cell_type": "code",
   "execution_count": 12,
   "id": "2dabc92a",
   "metadata": {},
   "outputs": [
    {
     "name": "stdout",
     "output_type": "stream",
     "text": [
      "model Phantom\n",
      "Color Orange\n",
      "company Rolls Royce\n",
      "Manufacturing_year 2021\n"
     ]
    }
   ],
   "source": [
    "for key,values in car_details.items():\n",
    "    print(key,values)"
   ]
  },
  {
   "cell_type": "code",
   "execution_count": 15,
   "id": "1fd8879c",
   "metadata": {},
   "outputs": [
    {
     "name": "stdout",
     "output_type": "stream",
     "text": [
      "model Phantom\n",
      "Color Orange\n",
      "company Rolls Royce\n",
      "Manufacturing_year 2021\n"
     ]
    }
   ],
   "source": [
    "for i in car_details.items():\n",
    "    print(i[0],i[1])"
   ]
  },
  {
   "cell_type": "code",
   "execution_count": 16,
   "id": "6742c4ec",
   "metadata": {},
   "outputs": [
    {
     "name": "stdout",
     "output_type": "stream",
     "text": [
      "1\n",
      "2\n",
      "3\n",
      "4\n",
      "6\n",
      "7\n",
      "8\n",
      "9\n",
      "11\n",
      "12\n",
      "13\n",
      "14\n",
      "16\n",
      "17\n",
      "18\n",
      "19\n"
     ]
    }
   ],
   "source": [
    "for i in range(1,21):\n",
    "    if i%5!=0:\n",
    "        print(i)"
   ]
  },
  {
   "cell_type": "markdown",
   "id": "aab41072",
   "metadata": {},
   "source": [
    "# f-string"
   ]
  },
  {
   "cell_type": "code",
   "execution_count": 17,
   "id": "34c49183",
   "metadata": {},
   "outputs": [
    {
     "name": "stdout",
     "output_type": "stream",
     "text": [
      "Enter a number:5\n",
      "5x1=5\n",
      "5x2=10\n",
      "5x3=15\n",
      "5x4=20\n",
      "5x5=25\n",
      "5x6=30\n",
      "5x7=35\n",
      "5x8=40\n",
      "5x9=45\n",
      "5x10=50\n"
     ]
    }
   ],
   "source": [
    "num=int(input(\"Enter a number:\"))\n",
    "for i in range(1,11):\n",
    "    print(f\"{num}x{i}={num*i}\")"
   ]
  },
  {
   "cell_type": "code",
   "execution_count": 22,
   "id": "93ce4777",
   "metadata": {},
   "outputs": [
    {
     "name": "stdout",
     "output_type": "stream",
     "text": [
      "num1=[1, 2, 3, 4, 5]\n"
     ]
    }
   ],
   "source": [
    "print(f\"{'num1'}={[1,2,3,4,5]}\")"
   ]
  },
  {
   "cell_type": "markdown",
   "id": "11387256",
   "metadata": {},
   "source": [
    "# Write a program to greet all the person names stored in a list l1 and which starts with s\n",
    "\n"
   ]
  },
  {
   "cell_type": "code",
   "execution_count": 25,
   "id": "4b01eef9",
   "metadata": {},
   "outputs": [],
   "source": [
    "l1=['Vikas','Sham','Ram','Suraj']"
   ]
  },
  {
   "cell_type": "code",
   "execution_count": 26,
   "id": "092c8e19",
   "metadata": {},
   "outputs": [
    {
     "data": {
      "text/plain": [
       "['Vikas', 'Sham', 'Ram', 'Suraj']"
      ]
     },
     "execution_count": 26,
     "metadata": {},
     "output_type": "execute_result"
    }
   ],
   "source": [
    "l1"
   ]
  },
  {
   "cell_type": "code",
   "execution_count": 44,
   "id": "31f740cd",
   "metadata": {},
   "outputs": [
    {
     "name": "stdout",
     "output_type": "stream",
     "text": [
      " Good Morning, Sham\n",
      " Good Morning, Suraj\n"
     ]
    }
   ],
   "source": [
    "for i in l1:\n",
    "    if i.startswith('S'):\n",
    "        \n",
    "        print(\" Good Morning, \"  +  i)"
   ]
  },
  {
   "cell_type": "markdown",
   "id": "8b5ca3ee",
   "metadata": {},
   "source": [
    "# Startswith "
   ]
  },
  {
   "cell_type": "code",
   "execution_count": 38,
   "id": "2b99f9cf",
   "metadata": {},
   "outputs": [
    {
     "name": "stdout",
     "output_type": "stream",
     "text": [
      "Name\n",
      "Nose\n",
      "Nail\n",
      "Number\n"
     ]
    }
   ],
   "source": [
    "list2=['Name','Nose','Apple','Nail','Number']\n",
    "for i in list2:\n",
    "    if i.startswith('N'):\n",
    "        print(i)"
   ]
  },
  {
   "cell_type": "markdown",
   "id": "32b3fad3",
   "metadata": {},
   "source": [
    "# Print table using while loop"
   ]
  },
  {
   "cell_type": "code",
   "execution_count": 45,
   "id": "e13d89cd",
   "metadata": {},
   "outputs": [
    {
     "name": "stdout",
     "output_type": "stream",
     "text": [
      "2\n",
      "4\n",
      "6\n",
      "8\n",
      "10\n",
      "12\n",
      "14\n",
      "16\n",
      "18\n",
      "20\n"
     ]
    }
   ],
   "source": [
    "num=2\n",
    "while num<21:\n",
    "    print(num)\n",
    "    num=num+2\n",
    "    "
   ]
  },
  {
   "cell_type": "code",
   "execution_count": 46,
   "id": "a283a113",
   "metadata": {},
   "outputs": [
    {
     "name": "stdout",
     "output_type": "stream",
     "text": [
      "Table of 24 :\n",
      "24\n",
      "48\n",
      "72\n",
      "96\n",
      "120\n",
      "144\n",
      "168\n",
      "192\n",
      "216\n",
      "240\n"
     ]
    }
   ],
   "source": [
    "print(\"Table of 24 :\")\n",
    "num=24\n",
    "while num<241:\n",
    "    print(num)\n",
    "    num=num+24"
   ]
  },
  {
   "cell_type": "markdown",
   "id": "4f27a411",
   "metadata": {},
   "source": [
    "# Write a program to check wheather the number is prime or not"
   ]
  },
  {
   "cell_type": "code",
   "execution_count": 65,
   "id": "ea849168",
   "metadata": {},
   "outputs": [
    {
     "name": "stdout",
     "output_type": "stream",
     "text": [
      "Enter number: 41\n",
      "41 Is prime number\n"
     ]
    }
   ],
   "source": [
    "num=int(input(\"Enter number: \"))\n",
    "prime=True\n",
    "for i in range(2,num):\n",
    "    if num%i==0:\n",
    "        prime=False\n",
    "        break\n",
    "if prime:\n",
    "    print(num, \"Is prime number\")\n",
    "else:\n",
    "    print(num,\"Is not prime number\")"
   ]
  },
  {
   "cell_type": "code",
   "execution_count": 67,
   "id": "da635187",
   "metadata": {},
   "outputs": [
    {
     "name": "stdout",
     "output_type": "stream",
     "text": [
      "Enter a number: 11\n",
      "11 = prime\n"
     ]
    }
   ],
   "source": [
    "num=int(input(\"Enter a number: \"))\n",
    "prime=True\n",
    "for i in range(2,num):\n",
    "    if num%i==0:\n",
    "        prime=False\n",
    "        break\n",
    "if prime:\n",
    "    print(num,\"= prime\")\n",
    "else:\n",
    "    print(num,\"= Not prime\")"
   ]
  },
  {
   "cell_type": "code",
   "execution_count": 68,
   "id": "4bcfe358",
   "metadata": {},
   "outputs": [
    {
     "name": "stdout",
     "output_type": "stream",
     "text": [
      "Enter a number: 21\n",
      "21 = Not prime\n"
     ]
    }
   ],
   "source": [
    "num=int(input(\"Enter a number: \"))\n",
    "prime=True\n",
    "for i in range(2,num):\n",
    "    if num%i==0:\n",
    "        prime=False\n",
    "        break\n",
    "if prime:\n",
    "    print(num,\"= prime\")\n",
    "else:\n",
    "    print(num,\"= Not prime\")"
   ]
  },
  {
   "cell_type": "code",
   "execution_count": 69,
   "id": "669bbbba",
   "metadata": {},
   "outputs": [
    {
     "name": "stdout",
     "output_type": "stream",
     "text": [
      "Enter a number: 199\n",
      "199 = prime\n"
     ]
    }
   ],
   "source": [
    "num=int(input(\"Enter a number: \"))\n",
    "prime=True\n",
    "for i in range(2,num):\n",
    "    if num%i==0:\n",
    "        prime=False\n",
    "        break\n",
    "if prime:\n",
    "    print(num,\"= prime\")\n",
    "else:\n",
    "    print(num,\"= Not prime\")"
   ]
  },
  {
   "cell_type": "markdown",
   "id": "cca43ebe",
   "metadata": {},
   "source": [
    "# Write a program to print all prime numbers between 1 to 20:"
   ]
  },
  {
   "cell_type": "code",
   "execution_count": 73,
   "id": "e94fb38f",
   "metadata": {},
   "outputs": [
    {
     "name": "stdout",
     "output_type": "stream",
     "text": [
      "2\n",
      "3\n",
      "5\n",
      "7\n",
      "11\n",
      "13\n",
      "17\n",
      "19\n"
     ]
    }
   ],
   "source": [
    "for num in range(1,21):\n",
    "    if num >1:\n",
    "        for i in range(2,num):\n",
    "            if num%i==0:\n",
    "                break\n",
    "        else:\n",
    "            print(num)"
   ]
  },
  {
   "cell_type": "code",
   "execution_count": null,
   "id": "efb2eddd",
   "metadata": {},
   "outputs": [],
   "source": []
  }
 ],
 "metadata": {
  "kernelspec": {
   "display_name": "Python 3",
   "language": "python",
   "name": "python3"
  },
  "language_info": {
   "codemirror_mode": {
    "name": "ipython",
    "version": 3
   },
   "file_extension": ".py",
   "mimetype": "text/x-python",
   "name": "python",
   "nbconvert_exporter": "python",
   "pygments_lexer": "ipython3",
   "version": "3.8.8"
  }
 },
 "nbformat": 4,
 "nbformat_minor": 5
}
